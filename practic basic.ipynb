{
 "cells": [
  {
   "cell_type": "markdown",
   "id": "2f8d0c1a-1cb9-4621-91ff-231ca75e977e",
   "metadata": {},
   "source": [
    "                                    all operation"
   ]
  },
  {
   "cell_type": "code",
   "execution_count": 1,
   "id": "649735a9-0d5f-40f2-a6e5-0433b8634381",
   "metadata": {},
   "outputs": [
    {
     "data": {
      "text/plain": [
       "3"
      ]
     },
     "execution_count": 1,
     "metadata": {},
     "output_type": "execute_result"
    }
   ],
   "source": [
    "1+2      #addition"
   ]
  },
  {
   "cell_type": "code",
   "execution_count": 2,
   "id": "8dc1ba90-9c05-4842-a5f8-adde355aebc5",
   "metadata": {},
   "outputs": [
    {
     "data": {
      "text/plain": [
       "2"
      ]
     },
     "execution_count": 2,
     "metadata": {},
     "output_type": "execute_result"
    }
   ],
   "source": [
    "4-2      #substraction"
   ]
  },
  {
   "cell_type": "code",
   "execution_count": 3,
   "id": "d8a82513-f041-4ed7-9c09-2a9f0021cf7c",
   "metadata": {},
   "outputs": [
    {
     "data": {
      "text/plain": [
       "12"
      ]
     },
     "execution_count": 3,
     "metadata": {},
     "output_type": "execute_result"
    }
   ],
   "source": [
    "4*3      #multiplication"
   ]
  },
  {
   "cell_type": "code",
   "execution_count": 4,
   "id": "108e5bea-f13e-4275-9a47-8cc650dfb3d1",
   "metadata": {},
   "outputs": [
    {
     "data": {
      "text/plain": [
       "2.0"
      ]
     },
     "execution_count": 4,
     "metadata": {},
     "output_type": "execute_result"
    }
   ],
   "source": [
    "6/3      #divition"
   ]
  },
  {
   "cell_type": "code",
   "execution_count": 5,
   "id": "60fad855-4a14-4547-8184-cbe172270a9f",
   "metadata": {},
   "outputs": [
    {
     "data": {
      "text/plain": [
       "1"
      ]
     },
     "execution_count": 5,
     "metadata": {},
     "output_type": "execute_result"
    }
   ],
   "source": [
    "1%3      #modulas"
   ]
  },
  {
   "cell_type": "code",
   "execution_count": 6,
   "id": "58035a88-ac6b-4c8b-a137-5d5d2e96d593",
   "metadata": {},
   "outputs": [
    {
     "data": {
      "text/plain": [
       "0"
      ]
     },
     "execution_count": 6,
     "metadata": {},
     "output_type": "execute_result"
    }
   ],
   "source": [
    "2//4     #floar"
   ]
  },
  {
   "cell_type": "code",
   "execution_count": 7,
   "id": "469b66e3-a7a3-423f-a922-5327ee212608",
   "metadata": {},
   "outputs": [
    {
     "data": {
      "text/plain": [
       "16"
      ]
     },
     "execution_count": 7,
     "metadata": {},
     "output_type": "execute_result"
    }
   ],
   "source": [
    "2**4     #power / sqare / eponentiol"
   ]
  },
  {
   "cell_type": "code",
   "execution_count": 8,
   "id": "9c0f0a31-3791-4a48-bd61-e34d4dbce618",
   "metadata": {},
   "outputs": [
    {
     "data": {
      "text/plain": [
       "True"
      ]
     },
     "execution_count": 8,
     "metadata": {},
     "output_type": "execute_result"
    }
   ],
   "source": [
    "2>1"
   ]
  },
  {
   "cell_type": "code",
   "execution_count": 9,
   "id": "fad25a21-487a-4220-8df1-6d5f5b83a2a7",
   "metadata": {},
   "outputs": [
    {
     "data": {
      "text/plain": [
       "True"
      ]
     },
     "execution_count": 9,
     "metadata": {},
     "output_type": "execute_result"
    }
   ],
   "source": [
    "2>1"
   ]
  },
  {
   "cell_type": "code",
   "execution_count": 10,
   "id": "e1fc2f23-0af8-40b7-b911-018fa75083dd",
   "metadata": {},
   "outputs": [
    {
     "data": {
      "text/plain": [
       "True"
      ]
     },
     "execution_count": 10,
     "metadata": {},
     "output_type": "execute_result"
    }
   ],
   "source": [
    "1<2"
   ]
  },
  {
   "cell_type": "code",
   "execution_count": 11,
   "id": "73a3aea7-cb8c-442e-8f28-db76bfa14afd",
   "metadata": {},
   "outputs": [
    {
     "data": {
      "text/plain": [
       "False"
      ]
     },
     "execution_count": 11,
     "metadata": {},
     "output_type": "execute_result"
    }
   ],
   "source": [
    "2<1"
   ]
  },
  {
   "cell_type": "code",
   "execution_count": 12,
   "id": "1fce76e8-b294-419b-8108-e0e5450cd3d1",
   "metadata": {},
   "outputs": [
    {
     "data": {
      "text/plain": [
       "5"
      ]
     },
     "execution_count": 12,
     "metadata": {},
     "output_type": "execute_result"
    }
   ],
   "source": [
    "7&5"
   ]
  },
  {
   "cell_type": "code",
   "execution_count": 13,
   "id": "b8384b30-15a3-47b3-a4fb-583f9eb2efa3",
   "metadata": {},
   "outputs": [
    {
     "data": {
      "text/plain": [
       "'0b111'"
      ]
     },
     "execution_count": 13,
     "metadata": {},
     "output_type": "execute_result"
    }
   ],
   "source": [
    "bin(7)"
   ]
  },
  {
   "cell_type": "code",
   "execution_count": 14,
   "id": "5afe64ad-d46a-473e-9292-c191ef097a0a",
   "metadata": {},
   "outputs": [
    {
     "data": {
      "text/plain": [
       "'0b101'"
      ]
     },
     "execution_count": 14,
     "metadata": {},
     "output_type": "execute_result"
    }
   ],
   "source": [
    "bin(5)"
   ]
  },
  {
   "cell_type": "raw",
   "id": "453e50cb-8cf7-4763-bd97-60b061f4c150",
   "metadata": {},
   "source": [
    "#### How '&' (and) in 7&5 operation work fist find \n",
    "# 7 binary ='0b111'\n",
    "# 5 binary ='0b101'\n",
    "# Now\n",
    "#     1 * 1 = 1\n",
    "#     1 * 0 = 0\n",
    "#     1 * 1 = 1\n",
    "    \n",
    "# (101) decmal ia '5' is answer "
   ]
  },
  {
   "cell_type": "code",
   "execution_count": 15,
   "id": "8336bcfe-83b6-4b9c-a60b-e3865df4111b",
   "metadata": {},
   "outputs": [
    {
     "data": {
      "text/plain": [
       "5"
      ]
     },
     "execution_count": 15,
     "metadata": {},
     "output_type": "execute_result"
    }
   ],
   "source": [
    "4|1"
   ]
  },
  {
   "cell_type": "code",
   "execution_count": 16,
   "id": "606dc6ab-64fb-4220-8f87-7bd262543292",
   "metadata": {},
   "outputs": [
    {
     "data": {
      "text/plain": [
       "'0b100'"
      ]
     },
     "execution_count": 16,
     "metadata": {},
     "output_type": "execute_result"
    }
   ],
   "source": [
    "bin(4)"
   ]
  },
  {
   "cell_type": "code",
   "execution_count": 17,
   "id": "33be16fa-06c8-4a5e-a855-1daab75f2724",
   "metadata": {},
   "outputs": [
    {
     "data": {
      "text/plain": [
       "'0b1'"
      ]
     },
     "execution_count": 17,
     "metadata": {},
     "output_type": "execute_result"
    }
   ],
   "source": [
    "bin(1)"
   ]
  },
  {
   "cell_type": "code",
   "execution_count": 18,
   "id": "6f64d683-f66c-4689-b3b6-a5fadf2ba7fa",
   "metadata": {},
   "outputs": [
    {
     "data": {
      "text/plain": [
       "'0b101'"
      ]
     },
     "execution_count": 18,
     "metadata": {},
     "output_type": "execute_result"
    }
   ],
   "source": [
    "bin(5)"
   ]
  },
  {
   "cell_type": "raw",
   "id": "8b1af92b-4261-4866-bda7-57b18e35ecff",
   "metadata": {},
   "source": [
    "# How '|' (\"\" operation is perfonm) in 4|1 operation work fist find \n",
    "# 4 binary ='0b100'\n",
    "# 1 binary ='0b1'\n",
    "# Now\n",
    "#         1 + 0 = 1\n",
    "#         0 + 0 = 0\n",
    "#         0 + 1 = 1\n",
    "# (101) decmal ia '5' is answer "
   ]
  },
  {
   "cell_type": "code",
   "execution_count": null,
   "id": "394f1847-d055-4bc3-a724-e13f3d384648",
   "metadata": {},
   "outputs": [],
   "source": []
  },
  {
   "cell_type": "code",
   "execution_count": null,
   "id": "a96fd4bb-e0a5-482e-ba22-188e42d72718",
   "metadata": {},
   "outputs": [],
   "source": []
  },
  {
   "cell_type": "code",
   "execution_count": null,
   "id": "bcf63e90-359e-4419-a5d4-fdde0da1697c",
   "metadata": {},
   "outputs": [],
   "source": []
  },
  {
   "cell_type": "code",
   "execution_count": null,
   "id": "5aa69d19-6014-4192-86ff-1d80cd4d9f01",
   "metadata": {},
   "outputs": [],
   "source": []
  },
  {
   "cell_type": "markdown",
   "id": "c5242cf4-dce2-4060-b42f-650e29c7e41f",
   "metadata": {},
   "source": [
    "                                INTEGER"
   ]
  },
  {
   "cell_type": "code",
   "execution_count": 19,
   "id": "540c7735-83ca-427e-a450-5dbbb83a6cfd",
   "metadata": {},
   "outputs": [],
   "source": [
    "a=1"
   ]
  },
  {
   "cell_type": "code",
   "execution_count": 20,
   "id": "0aed719a-6d2a-4e70-be75-8fb4a5ee24db",
   "metadata": {},
   "outputs": [
    {
     "data": {
      "text/plain": [
       "1"
      ]
     },
     "execution_count": 20,
     "metadata": {},
     "output_type": "execute_result"
    }
   ],
   "source": [
    "a"
   ]
  },
  {
   "cell_type": "code",
   "execution_count": 21,
   "id": "1fa25c38-b2ad-4eca-b7a8-76755076f897",
   "metadata": {},
   "outputs": [
    {
     "data": {
      "text/plain": [
       "int"
      ]
     },
     "execution_count": 21,
     "metadata": {},
     "output_type": "execute_result"
    }
   ],
   "source": [
    "type(a)"
   ]
  },
  {
   "cell_type": "code",
   "execution_count": 22,
   "id": "d9cde832-812a-4cf3-ba65-9fd8bb4e4a42",
   "metadata": {},
   "outputs": [],
   "source": [
    "b=\"pwskills\""
   ]
  },
  {
   "cell_type": "code",
   "execution_count": 23,
   "id": "fa69fcad-af66-4249-a9e6-b6d24cbda3a5",
   "metadata": {},
   "outputs": [
    {
     "data": {
      "text/plain": [
       "'pwskills'"
      ]
     },
     "execution_count": 23,
     "metadata": {},
     "output_type": "execute_result"
    }
   ],
   "source": [
    "b"
   ]
  },
  {
   "cell_type": "code",
   "execution_count": 24,
   "id": "99b55bee-f2b8-49b6-a4d0-7b1e4ac02f99",
   "metadata": {},
   "outputs": [
    {
     "data": {
      "text/plain": [
       "'s'"
      ]
     },
     "execution_count": 24,
     "metadata": {},
     "output_type": "execute_result"
    }
   ],
   "source": [
    "b[2]       #it used to take one carecter in string"
   ]
  },
  {
   "cell_type": "code",
   "execution_count": 25,
   "id": "7f600bf0-497b-4c7a-8a1c-3b10d79a2588",
   "metadata": {},
   "outputs": [
    {
     "data": {
      "text/plain": [
       "'k'"
      ]
     },
     "execution_count": 25,
     "metadata": {},
     "output_type": "execute_result"
    }
   ],
   "source": [
    "b[-5]"
   ]
  },
  {
   "cell_type": "code",
   "execution_count": 26,
   "id": "fe78df08-acff-44da-bad1-5d851b2ac8c9",
   "metadata": {},
   "outputs": [
    {
     "data": {
      "text/plain": [
       "'k'"
      ]
     },
     "execution_count": 26,
     "metadata": {},
     "output_type": "execute_result"
    }
   ],
   "source": [
    "b[3]"
   ]
  },
  {
   "cell_type": "code",
   "execution_count": 27,
   "id": "33fefd19-58ee-49b0-8ee4-0887a670e0d9",
   "metadata": {},
   "outputs": [
    {
     "data": {
      "text/plain": [
       "'sllikswp'"
      ]
     },
     "execution_count": 27,
     "metadata": {},
     "output_type": "execute_result"
    }
   ],
   "source": [
    "b[::-1]   #Reversing the srtring"
   ]
  },
  {
   "cell_type": "code",
   "execution_count": 28,
   "id": "80be93e0-b4e3-4c3c-9e5b-145e30fae775",
   "metadata": {},
   "outputs": [
    {
     "data": {
      "text/plain": [
       "'Pwskills'"
      ]
     },
     "execution_count": 28,
     "metadata": {},
     "output_type": "execute_result"
    }
   ],
   "source": [
    "b.capitalize()"
   ]
  },
  {
   "cell_type": "code",
   "execution_count": 29,
   "id": "fa3445ba-6ace-4399-be60-b0d0f68fde85",
   "metadata": {},
   "outputs": [
    {
     "data": {
      "text/plain": [
       "'pwskills'"
      ]
     },
     "execution_count": 29,
     "metadata": {},
     "output_type": "execute_result"
    }
   ],
   "source": [
    "b.casefold()"
   ]
  },
  {
   "cell_type": "code",
   "execution_count": 30,
   "id": "e613e849-b399-49fe-874f-baa68a39d77d",
   "metadata": {},
   "outputs": [],
   "source": [
    "b1=\"Pw sKill\""
   ]
  },
  {
   "cell_type": "code",
   "execution_count": 31,
   "id": "97fa2e4f-6cf6-4e7a-9ece-bd0dca53af6e",
   "metadata": {},
   "outputs": [
    {
     "data": {
      "text/plain": [
       "'PW SKILL'"
      ]
     },
     "execution_count": 31,
     "metadata": {},
     "output_type": "execute_result"
    }
   ],
   "source": [
    "b1.upper()"
   ]
  },
  {
   "cell_type": "code",
   "execution_count": 32,
   "id": "c6ee91ad-0c0f-41e1-a7ff-41cd7bd494e3",
   "metadata": {},
   "outputs": [
    {
     "data": {
      "text/plain": [
       "'pw skill'"
      ]
     },
     "execution_count": 32,
     "metadata": {},
     "output_type": "execute_result"
    }
   ],
   "source": [
    "b1.lower()"
   ]
  },
  {
   "cell_type": "code",
   "execution_count": 33,
   "id": "b1df0651-901f-43cf-b57d-14cef6c41597",
   "metadata": {},
   "outputs": [
    {
     "data": {
      "text/plain": [
       "'Pw Skill'"
      ]
     },
     "execution_count": 33,
     "metadata": {},
     "output_type": "execute_result"
    }
   ],
   "source": [
    "b1.title()"
   ]
  },
  {
   "cell_type": "markdown",
   "id": "9adc58ca-21fa-415c-a50e-a8141947ac1e",
   "metadata": {},
   "source": [
    "                            Boolenn  'True or False'"
   ]
  },
  {
   "cell_type": "code",
   "execution_count": 34,
   "id": "dac81cee-852d-4d30-a85f-34b8167503ab",
   "metadata": {},
   "outputs": [],
   "source": [
    "c=True    #Here True =1 meanse Trues value is one"
   ]
  },
  {
   "cell_type": "code",
   "execution_count": 35,
   "id": "dc515f47-ed52-4dce-a87a-202797711a91",
   "metadata": {},
   "outputs": [
    {
     "data": {
      "text/plain": [
       "True"
      ]
     },
     "execution_count": 35,
     "metadata": {},
     "output_type": "execute_result"
    }
   ],
   "source": [
    "c"
   ]
  },
  {
   "cell_type": "code",
   "execution_count": 36,
   "id": "923a6687-4f5b-49c5-9328-d6eaa22ead1b",
   "metadata": {},
   "outputs": [
    {
     "data": {
      "text/plain": [
       "bool"
      ]
     },
     "execution_count": 36,
     "metadata": {},
     "output_type": "execute_result"
    }
   ],
   "source": [
    "type(c)"
   ]
  },
  {
   "cell_type": "code",
   "execution_count": 37,
   "id": "6bad8824-d547-46d9-8848-b044e5b8481e",
   "metadata": {},
   "outputs": [],
   "source": [
    "d=False     # Here False = 0  Mean False value is 0"
   ]
  },
  {
   "cell_type": "code",
   "execution_count": 38,
   "id": "3918e4c5-a491-486b-a227-07d1c4b9467c",
   "metadata": {},
   "outputs": [
    {
     "data": {
      "text/plain": [
       "bool"
      ]
     },
     "execution_count": 38,
     "metadata": {},
     "output_type": "execute_result"
    }
   ],
   "source": [
    "type(d)"
   ]
  },
  {
   "cell_type": "code",
   "execution_count": 39,
   "id": "d5a0f00e-686d-4f50-9a05-ac41c61ffaf3",
   "metadata": {},
   "outputs": [],
   "source": [
    "d1 = True + False   #some of operationse  1+0 = 1  "
   ]
  },
  {
   "cell_type": "code",
   "execution_count": 40,
   "id": "9ceb4b93-23be-44cf-a239-14ed8d1a9b0e",
   "metadata": {},
   "outputs": [
    {
     "data": {
      "text/plain": [
       "1"
      ]
     },
     "execution_count": 40,
     "metadata": {},
     "output_type": "execute_result"
    }
   ],
   "source": [
    "d1"
   ]
  },
  {
   "cell_type": "code",
   "execution_count": 41,
   "id": "955f57f8-682e-4261-9776-fc1a46e55ada",
   "metadata": {},
   "outputs": [],
   "source": [
    "d2 = False + True     #   0+1 = 1"
   ]
  },
  {
   "cell_type": "code",
   "execution_count": 42,
   "id": "963ad974-bb51-4de2-8b07-24e9dad159d2",
   "metadata": {},
   "outputs": [
    {
     "data": {
      "text/plain": [
       "1"
      ]
     },
     "execution_count": 42,
     "metadata": {},
     "output_type": "execute_result"
    }
   ],
   "source": [
    "d2"
   ]
  },
  {
   "cell_type": "code",
   "execution_count": 43,
   "id": "a33420a0-41cb-4cd1-91a4-b07b0b472bf2",
   "metadata": {},
   "outputs": [],
   "source": [
    "d3 = True - False     #   1-0 = 1 "
   ]
  },
  {
   "cell_type": "code",
   "execution_count": 44,
   "id": "0430c97c-d4ce-46e3-ae76-ada4f72a92c6",
   "metadata": {},
   "outputs": [
    {
     "data": {
      "text/plain": [
       "1"
      ]
     },
     "execution_count": 44,
     "metadata": {},
     "output_type": "execute_result"
    }
   ],
   "source": [
    "d3"
   ]
  },
  {
   "cell_type": "code",
   "execution_count": 45,
   "id": "76118f08-d795-48c8-bbed-3023ced54dd2",
   "metadata": {},
   "outputs": [],
   "source": [
    "d4 = False - True      #   0-1 = -1"
   ]
  },
  {
   "cell_type": "code",
   "execution_count": 46,
   "id": "e82d3f8c-a7c6-4e94-93e4-755d22579535",
   "metadata": {},
   "outputs": [
    {
     "data": {
      "text/plain": [
       "-1"
      ]
     },
     "execution_count": 46,
     "metadata": {},
     "output_type": "execute_result"
    }
   ],
   "source": [
    "d4"
   ]
  },
  {
   "cell_type": "code",
   "execution_count": 47,
   "id": "20828062-abcd-48ef-8ae9-802a99d8a96f",
   "metadata": {},
   "outputs": [
    {
     "data": {
      "text/plain": [
       "int"
      ]
     },
     "execution_count": 47,
     "metadata": {},
     "output_type": "execute_result"
    }
   ],
   "source": [
    "type(d4)      # how it is integer because \"Trear operation value=1 And Falrse value=0\n",
    "              # So here  0-1 = -1"
   ]
  },
  {
   "cell_type": "markdown",
   "id": "910d43f4-4482-4665-9b5a-0886daa12d2c",
   "metadata": {},
   "source": [
    "                            Complex number"
   ]
  },
  {
   "cell_type": "code",
   "execution_count": 48,
   "id": "939f9fb8-f0ea-4d4c-bec6-5710851f32cd",
   "metadata": {},
   "outputs": [],
   "source": [
    "x=10+5j"
   ]
  },
  {
   "cell_type": "code",
   "execution_count": 49,
   "id": "079774e8-5232-4c68-97c7-7cb2d279a8ac",
   "metadata": {},
   "outputs": [
    {
     "data": {
      "text/plain": [
       "(10+5j)"
      ]
     },
     "execution_count": 49,
     "metadata": {},
     "output_type": "execute_result"
    }
   ],
   "source": [
    "x"
   ]
  },
  {
   "cell_type": "code",
   "execution_count": 50,
   "id": "a069480f-9298-48ee-b892-f073445dbb29",
   "metadata": {},
   "outputs": [
    {
     "data": {
      "text/plain": [
       "complex"
      ]
     },
     "execution_count": 50,
     "metadata": {},
     "output_type": "execute_result"
    }
   ],
   "source": [
    "type(x)"
   ]
  },
  {
   "cell_type": "code",
   "execution_count": 51,
   "id": "c4ff11af-12ff-45a4-ae4b-f1795f6769cc",
   "metadata": {},
   "outputs": [
    {
     "data": {
      "text/plain": [
       "10.0"
      ]
     },
     "execution_count": 51,
     "metadata": {},
     "output_type": "execute_result"
    }
   ],
   "source": [
    "# Now how to find Real part & Imaginary part\n",
    "x.real"
   ]
  },
  {
   "cell_type": "code",
   "execution_count": 52,
   "id": "46b17c55-4831-46d4-a70c-771cfbaedc8b",
   "metadata": {},
   "outputs": [
    {
     "data": {
      "text/plain": [
       "5.0"
      ]
     },
     "execution_count": 52,
     "metadata": {},
     "output_type": "execute_result"
    }
   ],
   "source": [
    "x.imag"
   ]
  },
  {
   "cell_type": "code",
   "execution_count": 53,
   "id": "cff443f6-adfe-43fc-bb7f-adf5e9f3fb7a",
   "metadata": {},
   "outputs": [
    {
     "data": {
      "text/plain": [
       "(10-5j)"
      ]
     },
     "execution_count": 53,
     "metadata": {},
     "output_type": "execute_result"
    }
   ],
   "source": [
    "x.conjugate()    # conjugate() function is Return the complex conjugate of its argument\n",
    "                 #(10+5j)  toconvert  (10+5j)"
   ]
  },
  {
   "cell_type": "code",
   "execution_count": 54,
   "id": "07aef11c-a8ef-4fe8-957c-072692ce2b96",
   "metadata": {},
   "outputs": [],
   "source": [
    "x1=10-50j     "
   ]
  },
  {
   "cell_type": "code",
   "execution_count": 55,
   "id": "b01373e9-080a-4ef9-a6f2-9d1717a08678",
   "metadata": {},
   "outputs": [
    {
     "data": {
      "text/plain": [
       "(10+50j)"
      ]
     },
     "execution_count": 55,
     "metadata": {},
     "output_type": "execute_result"
    }
   ],
   "source": [
    "x1.conjugate()"
   ]
  },
  {
   "cell_type": "markdown",
   "id": "b2e4fc96-e6ec-4d5c-9c92-d2562bce0931",
   "metadata": {},
   "source": [
    "                                    String"
   ]
  },
  {
   "cell_type": "code",
   "execution_count": 73,
   "id": "01aba14a-e998-4b7c-bda5-d0cb82650f86",
   "metadata": {},
   "outputs": [],
   "source": [
    "b=\"pwskolls\""
   ]
  },
  {
   "cell_type": "code",
   "execution_count": 74,
   "id": "2132eef2-3bd4-4316-9f67-6235a627fe33",
   "metadata": {},
   "outputs": [
    {
     "data": {
      "text/plain": [
       "'pwskolls'"
      ]
     },
     "execution_count": 74,
     "metadata": {},
     "output_type": "execute_result"
    }
   ],
   "source": [
    "b"
   ]
  },
  {
   "cell_type": "code",
   "execution_count": 75,
   "id": "2df59f3a-c4e5-421e-86e7-84acedc83ec4",
   "metadata": {},
   "outputs": [
    {
     "data": {
      "text/plain": [
       "str"
      ]
     },
     "execution_count": 75,
     "metadata": {},
     "output_type": "execute_result"
    }
   ],
   "source": [
    "type(b)"
   ]
  },
  {
   "cell_type": "code",
   "execution_count": 76,
   "id": "23d97797-54dc-48a5-b535-e16cf7a1bbea",
   "metadata": {},
   "outputs": [
    {
     "data": {
      "text/plain": [
       "'p'"
      ]
     },
     "execution_count": 76,
     "metadata": {},
     "output_type": "execute_result"
    }
   ],
   "source": [
    "b[0]"
   ]
  },
  {
   "cell_type": "code",
   "execution_count": 77,
   "id": "d2e5d0c4-5023-45d3-bf2c-d81f90508247",
   "metadata": {},
   "outputs": [
    {
     "data": {
      "text/plain": [
       "'psol'"
      ]
     },
     "execution_count": 77,
     "metadata": {},
     "output_type": "execute_result"
    }
   ],
   "source": [
    "b[0::2]        # how to print \" psol  \""
   ]
  },
  {
   "cell_type": "code",
   "execution_count": 78,
   "id": "7c3cf2a4-5701-4e9f-a829-8c8b4eedc075",
   "metadata": {},
   "outputs": [
    {
     "data": {
      "text/plain": [
       "'po'"
      ]
     },
     "execution_count": 78,
     "metadata": {},
     "output_type": "execute_result"
    }
   ],
   "source": [
    "b[0::4]"
   ]
  },
  {
   "cell_type": "code",
   "execution_count": 79,
   "id": "98606a67-2937-4b68-b93a-7d7ed2abc8df",
   "metadata": {},
   "outputs": [
    {
     "data": {
      "text/plain": [
       "'sllokswp'"
      ]
     },
     "execution_count": 79,
     "metadata": {},
     "output_type": "execute_result"
    }
   ],
   "source": [
    "b[::-1]"
   ]
  },
  {
   "cell_type": "code",
   "execution_count": 80,
   "id": "310608ad-5da5-43dd-924b-ac34ab3a5f54",
   "metadata": {},
   "outputs": [
    {
     "data": {
      "text/plain": [
       "'pwskolls'"
      ]
     },
     "execution_count": 80,
     "metadata": {},
     "output_type": "execute_result"
    }
   ],
   "source": [
    "b"
   ]
  },
  {
   "cell_type": "code",
   "execution_count": 81,
   "id": "e0dc0d19-de25-4502-960a-7155780d7b14",
   "metadata": {},
   "outputs": [
    {
     "data": {
      "text/plain": [
       "'sllokswp'"
      ]
     },
     "execution_count": 81,
     "metadata": {},
     "output_type": "execute_result"
    }
   ],
   "source": [
    "b[::-1]"
   ]
  },
  {
   "cell_type": "code",
   "execution_count": 82,
   "id": "dff99209-43ac-4cf8-bb7c-21c56d8f6233",
   "metadata": {},
   "outputs": [
    {
     "data": {
      "text/plain": [
       "'slloksw'"
      ]
     },
     "execution_count": 82,
     "metadata": {},
     "output_type": "execute_result"
    }
   ],
   "source": [
    "b[8:0:-1]"
   ]
  },
  {
   "cell_type": "code",
   "execution_count": 83,
   "id": "f7ea8597-c86a-42fe-85c8-6dc0800adc8e",
   "metadata": {},
   "outputs": [
    {
     "data": {
      "text/plain": [
       "'pwskollspwskolls'"
      ]
     },
     "execution_count": 83,
     "metadata": {},
     "output_type": "execute_result"
    }
   ],
   "source": [
    "b*2"
   ]
  },
  {
   "cell_type": "code",
   "execution_count": 84,
   "id": "5e3c574f-26b5-4945-90f5-302ca9368aff",
   "metadata": {},
   "outputs": [
    {
     "data": {
      "text/plain": [
       "'Pwskolls'"
      ]
     },
     "execution_count": 84,
     "metadata": {},
     "output_type": "execute_result"
    }
   ],
   "source": [
    "b.capitalize()"
   ]
  },
  {
   "cell_type": "code",
   "execution_count": 85,
   "id": "b8bdd864-efc0-4eac-9909-88a27a246044",
   "metadata": {},
   "outputs": [
    {
     "data": {
      "text/plain": [
       "'PWSKOLLS'"
      ]
     },
     "execution_count": 85,
     "metadata": {},
     "output_type": "execute_result"
    }
   ],
   "source": [
    "b.upper()"
   ]
  },
  {
   "cell_type": "code",
   "execution_count": 86,
   "id": "75767bae-d4b2-4410-94a8-73e7d5f53022",
   "metadata": {},
   "outputs": [
    {
     "data": {
      "text/plain": [
       "'pwskolls'"
      ]
     },
     "execution_count": 86,
     "metadata": {},
     "output_type": "execute_result"
    }
   ],
   "source": [
    "b"
   ]
  },
  {
   "cell_type": "markdown",
   "id": "b6c59359-37f9-4d67-b1dc-8b116e2868b3",
   "metadata": {},
   "source": [
    "                                     tuple"
   ]
  },
  {
   "cell_type": "code",
   "execution_count": null,
   "id": "b79a0079-d174-4a2e-a6de-3bcc288e4e2c",
   "metadata": {},
   "outputs": [],
   "source": [
    "x=(22,1,34,55,\"rokade\",[2,1,1,3,(122,2,4,44)])"
   ]
  },
  {
   "cell_type": "code",
   "execution_count": null,
   "id": "7b5360df-4a43-45ae-a357-dc8e16cc3d39",
   "metadata": {},
   "outputs": [],
   "source": [
    "type(x)"
   ]
  },
  {
   "cell_type": "code",
   "execution_count": null,
   "id": "677d698a-f0f7-46c4-ac8b-fb8789b41a19",
   "metadata": {},
   "outputs": [],
   "source": []
  },
  {
   "cell_type": "code",
   "execution_count": null,
   "id": "0d647a24-8456-459a-a066-78b0efcabe2d",
   "metadata": {},
   "outputs": [],
   "source": []
  },
  {
   "cell_type": "markdown",
   "id": "ac60d831-3364-40f2-95c1-7c2a0b3533b1",
   "metadata": {},
   "source": [
    "                                    List"
   ]
  },
  {
   "cell_type": "code",
   "execution_count": null,
   "id": "37063625-d7a9-4e18-9e44-995eca3340fc",
   "metadata": {},
   "outputs": [],
   "source": [
    "l=[2,2,0,1,3,\"pwskills\",\"om sai ram\",[11,44,56],-122,8.020]"
   ]
  },
  {
   "cell_type": "code",
   "execution_count": null,
   "id": "21effabc-77b8-4c62-939f-0e7519b41fda",
   "metadata": {},
   "outputs": [],
   "source": [
    "l"
   ]
  },
  {
   "cell_type": "code",
   "execution_count": null,
   "id": "5fb0d629-fdde-46d2-8279-f7ce87610d4f",
   "metadata": {},
   "outputs": [],
   "source": [
    "type(l)"
   ]
  },
  {
   "cell_type": "code",
   "execution_count": null,
   "id": "0a975d88-cb89-4239-9a26-c51ed7674898",
   "metadata": {},
   "outputs": [],
   "source": [
    "l[::-1]   # Reversing list"
   ]
  },
  {
   "cell_type": "code",
   "execution_count": null,
   "id": "5fe08a63-cfec-4772-94df-abe946158ba4",
   "metadata": {},
   "outputs": [],
   "source": [
    "l[1]"
   ]
  },
  {
   "cell_type": "code",
   "execution_count": null,
   "id": "77067edc-4786-426b-aa7e-c2ba9fc8316a",
   "metadata": {},
   "outputs": [],
   "source": [
    "l[5]"
   ]
  },
  {
   "cell_type": "code",
   "execution_count": null,
   "id": "4024fe40-0a42-4ac4-b6b2-5ba269a40c1c",
   "metadata": {},
   "outputs": [],
   "source": [
    "l[-7]"
   ]
  },
  {
   "cell_type": "code",
   "execution_count": null,
   "id": "082a9ebf-71ee-4926-9247-6309c7268dd2",
   "metadata": {},
   "outputs": [],
   "source": [
    "l[-9]"
   ]
  },
  {
   "cell_type": "code",
   "execution_count": null,
   "id": "9dfe3777-4074-434f-b56a-eae353536380",
   "metadata": {},
   "outputs": [],
   "source": [
    "l"
   ]
  },
  {
   "cell_type": "code",
   "execution_count": null,
   "id": "67384161-123d-402d-b4fa-35c299960514",
   "metadata": {},
   "outputs": [],
   "source": [
    "l[-3]"
   ]
  },
  {
   "cell_type": "code",
   "execution_count": null,
   "id": "3333a400-917a-4ee1-b9c5-fea8ce89bd31",
   "metadata": {},
   "outputs": [],
   "source": [
    "l[0]=\"pw\""
   ]
  },
  {
   "cell_type": "code",
   "execution_count": 70,
   "id": "75edb5f9-9e57-4bfb-a52d-18da59b79817",
   "metadata": {},
   "outputs": [
    {
     "ename": "NameError",
     "evalue": "name 'l' is not defined",
     "output_type": "error",
     "traceback": [
      "\u001b[0;31m---------------------------------------------------------------------------\u001b[0m",
      "\u001b[0;31mNameError\u001b[0m                                 Traceback (most recent call last)",
      "Cell \u001b[0;32mIn[70], line 1\u001b[0m\n\u001b[0;32m----> 1\u001b[0m \u001b[43ml\u001b[49m\n",
      "\u001b[0;31mNameError\u001b[0m: name 'l' is not defined"
     ]
    }
   ],
   "source": [
    "l"
   ]
  },
  {
   "cell_type": "code",
   "execution_count": null,
   "id": "ecc96c63-af7c-47c4-86f1-e2cbb67d082a",
   "metadata": {},
   "outputs": [],
   "source": [
    "l[7]=[10,100,11, 44, 56]"
   ]
  },
  {
   "cell_type": "code",
   "execution_count": null,
   "id": "bfc41cfe-ba9e-4e8a-8503-d53b6c87503a",
   "metadata": {},
   "outputs": [],
   "source": [
    "l"
   ]
  },
  {
   "cell_type": "markdown",
   "id": "ad062776-e5d8-403c-bb9c-2d9c0fd5990a",
   "metadata": {},
   "source": [
    "                                     boolen"
   ]
  },
  {
   "cell_type": "code",
   "execution_count": null,
   "id": "ecc78821-605f-46f9-9435-07b509370628",
   "metadata": {},
   "outputs": [],
   "source": [
    "k=True"
   ]
  },
  {
   "cell_type": "code",
   "execution_count": null,
   "id": "45801933-01cf-4700-999d-241dd7fb557e",
   "metadata": {},
   "outputs": [],
   "source": [
    "type(k)"
   ]
  },
  {
   "cell_type": "code",
   "execution_count": null,
   "id": "a483b49c-1709-4f3f-b778-322f79f34fc9",
   "metadata": {},
   "outputs": [],
   "source": []
  },
  {
   "cell_type": "code",
   "execution_count": null,
   "id": "873b4901-4c4a-486e-966e-e153e4f42246",
   "metadata": {},
   "outputs": [],
   "source": []
  },
  {
   "cell_type": "code",
   "execution_count": null,
   "id": "888ee773-656d-4eca-892b-66d6fc36199d",
   "metadata": {},
   "outputs": [],
   "source": []
  },
  {
   "cell_type": "markdown",
   "id": "a2203043-b83f-4991-a46b-4dbda3c96382",
   "metadata": {},
   "source": [
    "                                    dictionary"
   ]
  },
  {
   "cell_type": "code",
   "execution_count": 25,
   "id": "3d059036-96b3-4322-b43a-7bb82874f2ce",
   "metadata": {},
   "outputs": [],
   "source": [
    "s1={'name' : 'rahul', 'gmail' : 'rr@gamil.com',True:'yes',False : 'no'}"
   ]
  },
  {
   "cell_type": "code",
   "execution_count": 26,
   "id": "f7a47d23-851a-4efc-8919-3a0cefe42d6b",
   "metadata": {},
   "outputs": [
    {
     "data": {
      "text/plain": [
       "{'name': 'rahul', 'gmail': 'rr@gamil.com', True: 'yes', False: 'no'}"
      ]
     },
     "execution_count": 26,
     "metadata": {},
     "output_type": "execute_result"
    }
   ],
   "source": [
    "s1"
   ]
  },
  {
   "cell_type": "code",
   "execution_count": 27,
   "id": "5b7848bf-5abe-4ba8-9a5e-53e3baf34d05",
   "metadata": {},
   "outputs": [
    {
     "data": {
      "text/plain": [
       "dict"
      ]
     },
     "execution_count": 27,
     "metadata": {},
     "output_type": "execute_result"
    }
   ],
   "source": [
    "type(s1)"
   ]
  },
  {
   "cell_type": "code",
   "execution_count": 28,
   "id": "19e9a275-cbf4-4aea-95ac-a55d42f0ba79",
   "metadata": {},
   "outputs": [
    {
     "data": {
      "text/plain": [
       "'rr@gamil.com'"
      ]
     },
     "execution_count": 28,
     "metadata": {},
     "output_type": "execute_result"
    }
   ],
   "source": [
    "s1[\"gmail\"]"
   ]
  },
  {
   "cell_type": "code",
   "execution_count": 29,
   "id": "f63fa839-b6b1-41d1-849c-0641fce518ac",
   "metadata": {},
   "outputs": [
    {
     "data": {
      "text/plain": [
       "'rahul'"
      ]
     },
     "execution_count": 29,
     "metadata": {},
     "output_type": "execute_result"
    }
   ],
   "source": [
    "s1['name']"
   ]
  },
  {
   "cell_type": "code",
   "execution_count": 30,
   "id": "ef87ee08-0a9c-48b4-9cc5-5d403ea910bb",
   "metadata": {},
   "outputs": [
    {
     "data": {
      "text/plain": [
       "'yes'"
      ]
     },
     "execution_count": 30,
     "metadata": {},
     "output_type": "execute_result"
    }
   ],
   "source": [
    "s1[1]         #Because \"True\"=1 value is 1"
   ]
  },
  {
   "cell_type": "code",
   "execution_count": 31,
   "id": "897ae130-53a7-4610-9099-0fc9e3b463d2",
   "metadata": {},
   "outputs": [
    {
     "data": {
      "text/plain": [
       "'yes'"
      ]
     },
     "execution_count": 31,
     "metadata": {},
     "output_type": "execute_result"
    }
   ],
   "source": [
    "s1[True]"
   ]
  },
  {
   "cell_type": "code",
   "execution_count": 32,
   "id": "36cbb2e1-d81b-4f2d-afc6-b2a9d9010748",
   "metadata": {},
   "outputs": [
    {
     "ename": "SyntaxError",
     "evalue": "invalid syntax (1073939654.py, line 1)",
     "output_type": "error",
     "traceback": [
      "\u001b[0;36m  Cell \u001b[0;32mIn[32], line 1\u001b[0;36m\u001b[0m\n\u001b[0;31m    s2={'name' : 'rahul', @ :'rokade'  #spetial case character is not valide\u001b[0m\n\u001b[0m                          ^\u001b[0m\n\u001b[0;31mSyntaxError\u001b[0m\u001b[0;31m:\u001b[0m invalid syntax\n"
     ]
    }
   ],
   "source": [
    "s2={'name' : 'rahul', @ :'rokade'  #spetial case character is not valide"
   ]
  },
  {
   "cell_type": "code",
   "execution_count": 34,
   "id": "a19fad19-5e24-4578-8c4a-5c18046e1c6e",
   "metadata": {},
   "outputs": [],
   "source": [
    "s2={'name' : 'rahul', 'gmail' : ['rr@gamil.com',True,'yes',False ,'no']}"
   ]
  },
  {
   "cell_type": "code",
   "execution_count": 35,
   "id": "968c79a9-d0b8-4a34-83ef-ce32db006739",
   "metadata": {},
   "outputs": [
    {
     "data": {
      "text/plain": [
       "['rr@gamil.com', True, 'yes', False, 'no']"
      ]
     },
     "execution_count": 35,
     "metadata": {},
     "output_type": "execute_result"
    }
   ],
   "source": [
    "s2['gmail']"
   ]
  },
  {
   "cell_type": "code",
   "execution_count": 36,
   "id": "f570f54e-ca05-4a14-9da2-f97b90ee81d6",
   "metadata": {},
   "outputs": [
    {
     "data": {
      "text/plain": [
       "True"
      ]
     },
     "execution_count": 36,
     "metadata": {},
     "output_type": "execute_result"
    }
   ],
   "source": [
    "s2['gmail'][1]"
   ]
  },
  {
   "cell_type": "code",
   "execution_count": 37,
   "id": "5e26a147-b58c-4b26-91ba-99d716898cae",
   "metadata": {},
   "outputs": [
    {
     "data": {
      "text/plain": [
       "'rr@gamil.com'"
      ]
     },
     "execution_count": 37,
     "metadata": {},
     "output_type": "execute_result"
    }
   ],
   "source": [
    "s2['gmail'][0]"
   ]
  },
  {
   "cell_type": "code",
   "execution_count": 40,
   "id": "fab4f692-a8ac-4e1a-a7f6-0e32832c0355",
   "metadata": {},
   "outputs": [],
   "source": [
    "s2['full name']='Rahul Sanjay Rokade'"
   ]
  },
  {
   "cell_type": "code",
   "execution_count": 41,
   "id": "d703878f-6cbc-4348-a3af-7182558c6f0b",
   "metadata": {},
   "outputs": [
    {
     "data": {
      "text/plain": [
       "{'name': 'rahul',\n",
       " 'gmail': ['rr@gamil.com', True, 'yes', False, 'no'],\n",
       " 'full name': 'Rahul Sanjay Rokade'}"
      ]
     },
     "execution_count": 41,
     "metadata": {},
     "output_type": "execute_result"
    }
   ],
   "source": [
    "s2"
   ]
  },
  {
   "cell_type": "code",
   "execution_count": 42,
   "id": "2d735af8-5e76-4091-87c8-8bc3171e3dd1",
   "metadata": {},
   "outputs": [],
   "source": [
    "s2['first name']=['Rahul']"
   ]
  },
  {
   "cell_type": "code",
   "execution_count": 43,
   "id": "a4ac20c5-0571-4771-a06e-2c512cbfce26",
   "metadata": {},
   "outputs": [
    {
     "data": {
      "text/plain": [
       "{'name': 'rahul',\n",
       " 'gmail': ['rr@gamil.com', True, 'yes', False, 'no'],\n",
       " 'full name': 'Rahul Sanjay Rokade',\n",
       " 'first name': ['Rahul']}"
      ]
     },
     "execution_count": 43,
     "metadata": {},
     "output_type": "execute_result"
    }
   ],
   "source": [
    "s2"
   ]
  },
  {
   "cell_type": "code",
   "execution_count": 44,
   "id": "f0f550e7-df5a-4c5b-b129-c529c08fb383",
   "metadata": {},
   "outputs": [
    {
     "data": {
      "text/plain": [
       "['name', 'gmail', 'full name', 'first name']"
      ]
     },
     "execution_count": 44,
     "metadata": {},
     "output_type": "execute_result"
    }
   ],
   "source": [
    "list(s2.keys())"
   ]
  },
  {
   "cell_type": "code",
   "execution_count": 46,
   "id": "2fe6528b-7ed6-4df3-a01a-fc04ae6ed938",
   "metadata": {},
   "outputs": [
    {
     "data": {
      "text/plain": [
       "['rahul',\n",
       " ['rr@gamil.com', True, 'yes', False, 'no'],\n",
       " 'Rahul Sanjay Rokade',\n",
       " ['Rahul']]"
      ]
     },
     "execution_count": 46,
     "metadata": {},
     "output_type": "execute_result"
    }
   ],
   "source": [
    "list(s2.values())"
   ]
  },
  {
   "cell_type": "code",
   "execution_count": null,
   "id": "5c150746-d62e-49e2-9a84-a9ef22096b8c",
   "metadata": {},
   "outputs": [],
   "source": []
  }
 ],
 "metadata": {
  "kernelspec": {
   "display_name": "Python 3 (ipykernel)",
   "language": "python",
   "name": "python3"
  },
  "language_info": {
   "codemirror_mode": {
    "name": "ipython",
    "version": 3
   },
   "file_extension": ".py",
   "mimetype": "text/x-python",
   "name": "python",
   "nbconvert_exporter": "python",
   "pygments_lexer": "ipython3",
   "version": "3.10.8"
  }
 },
 "nbformat": 4,
 "nbformat_minor": 5
}
